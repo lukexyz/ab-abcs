{
  "nbformat": 4,
  "nbformat_minor": 0,
  "metadata": {
    "kernelspec": {
      "display_name": "Python 3",
      "language": "python",
      "name": "python3"
    },
    "language_info": {
      "codemirror_mode": {
        "name": "ipython",
        "version": 3
      },
      "file_extension": ".py",
      "mimetype": "text/x-python",
      "name": "python",
      "nbconvert_exporter": "python",
      "pygments_lexer": "ipython3",
      "version": "3.7.4"
    },
    "colab": {
      "name": "stats-AB-tests.ipynb",
      "provenance": []
    },
    "widgets": {
      "application/vnd.jupyter.widget-state+json": {
        "ca8e7a44da4f4a89b3e59e65df3743ae": {
          "model_module": "@jupyter-widgets/controls",
          "model_name": "HBoxModel",
          "state": {
            "_view_name": "HBoxView",
            "_dom_classes": [],
            "_model_name": "HBoxModel",
            "_view_module": "@jupyter-widgets/controls",
            "_model_module_version": "1.5.0",
            "_view_count": null,
            "_view_module_version": "1.5.0",
            "box_style": "",
            "layout": "IPY_MODEL_ba25531caca24ac79aea6d8d48e536ec",
            "_model_module": "@jupyter-widgets/controls",
            "children": [
              "IPY_MODEL_6228ae09c9f444608b0f12385455d5f8",
              "IPY_MODEL_350b5b6ab9634d48b2cb8e7988d96c34"
            ]
          }
        },
        "ba25531caca24ac79aea6d8d48e536ec": {
          "model_module": "@jupyter-widgets/base",
          "model_name": "LayoutModel",
          "state": {
            "_view_name": "LayoutView",
            "grid_template_rows": null,
            "right": null,
            "justify_content": null,
            "_view_module": "@jupyter-widgets/base",
            "overflow": null,
            "_model_module_version": "1.2.0",
            "_view_count": null,
            "flex_flow": null,
            "width": null,
            "min_width": null,
            "border": null,
            "align_items": null,
            "bottom": null,
            "_model_module": "@jupyter-widgets/base",
            "top": null,
            "grid_column": null,
            "overflow_y": null,
            "overflow_x": null,
            "grid_auto_flow": null,
            "grid_area": null,
            "grid_template_columns": null,
            "flex": null,
            "_model_name": "LayoutModel",
            "justify_items": null,
            "grid_row": null,
            "max_height": null,
            "align_content": null,
            "visibility": null,
            "align_self": null,
            "height": null,
            "min_height": null,
            "padding": null,
            "grid_auto_rows": null,
            "grid_gap": null,
            "max_width": null,
            "order": null,
            "_view_module_version": "1.2.0",
            "grid_template_areas": null,
            "object_position": null,
            "object_fit": null,
            "grid_auto_columns": null,
            "margin": null,
            "display": null,
            "left": null
          }
        },
        "6228ae09c9f444608b0f12385455d5f8": {
          "model_module": "@jupyter-widgets/controls",
          "model_name": "FloatProgressModel",
          "state": {
            "_view_name": "ProgressView",
            "style": "IPY_MODEL_7e573f4e66014df4a112fd16df55f8e4",
            "_dom_classes": [],
            "description": "100%",
            "_model_name": "FloatProgressModel",
            "bar_style": "success",
            "max": 20,
            "_view_module": "@jupyter-widgets/controls",
            "_model_module_version": "1.5.0",
            "value": 20,
            "_view_count": null,
            "_view_module_version": "1.5.0",
            "orientation": "horizontal",
            "min": 0,
            "description_tooltip": null,
            "_model_module": "@jupyter-widgets/controls",
            "layout": "IPY_MODEL_93da6076432d413e81523986e87d0b58"
          }
        },
        "350b5b6ab9634d48b2cb8e7988d96c34": {
          "model_module": "@jupyter-widgets/controls",
          "model_name": "HTMLModel",
          "state": {
            "_view_name": "HTMLView",
            "style": "IPY_MODEL_4137bb8da312467d89376db65af1f379",
            "_dom_classes": [],
            "description": "",
            "_model_name": "HTMLModel",
            "placeholder": "​",
            "_view_module": "@jupyter-widgets/controls",
            "_model_module_version": "1.5.0",
            "value": " 20/20 [00:10&lt;00:00,  1.92it/s]",
            "_view_count": null,
            "_view_module_version": "1.5.0",
            "description_tooltip": null,
            "_model_module": "@jupyter-widgets/controls",
            "layout": "IPY_MODEL_cdcf164c851a43a681a33585e1bfc44a"
          }
        },
        "7e573f4e66014df4a112fd16df55f8e4": {
          "model_module": "@jupyter-widgets/controls",
          "model_name": "ProgressStyleModel",
          "state": {
            "_view_name": "StyleView",
            "_model_name": "ProgressStyleModel",
            "description_width": "initial",
            "_view_module": "@jupyter-widgets/base",
            "_model_module_version": "1.5.0",
            "_view_count": null,
            "_view_module_version": "1.2.0",
            "bar_color": null,
            "_model_module": "@jupyter-widgets/controls"
          }
        },
        "93da6076432d413e81523986e87d0b58": {
          "model_module": "@jupyter-widgets/base",
          "model_name": "LayoutModel",
          "state": {
            "_view_name": "LayoutView",
            "grid_template_rows": null,
            "right": null,
            "justify_content": null,
            "_view_module": "@jupyter-widgets/base",
            "overflow": null,
            "_model_module_version": "1.2.0",
            "_view_count": null,
            "flex_flow": null,
            "width": null,
            "min_width": null,
            "border": null,
            "align_items": null,
            "bottom": null,
            "_model_module": "@jupyter-widgets/base",
            "top": null,
            "grid_column": null,
            "overflow_y": null,
            "overflow_x": null,
            "grid_auto_flow": null,
            "grid_area": null,
            "grid_template_columns": null,
            "flex": null,
            "_model_name": "LayoutModel",
            "justify_items": null,
            "grid_row": null,
            "max_height": null,
            "align_content": null,
            "visibility": null,
            "align_self": null,
            "height": null,
            "min_height": null,
            "padding": null,
            "grid_auto_rows": null,
            "grid_gap": null,
            "max_width": null,
            "order": null,
            "_view_module_version": "1.2.0",
            "grid_template_areas": null,
            "object_position": null,
            "object_fit": null,
            "grid_auto_columns": null,
            "margin": null,
            "display": null,
            "left": null
          }
        },
        "4137bb8da312467d89376db65af1f379": {
          "model_module": "@jupyter-widgets/controls",
          "model_name": "DescriptionStyleModel",
          "state": {
            "_view_name": "StyleView",
            "_model_name": "DescriptionStyleModel",
            "description_width": "",
            "_view_module": "@jupyter-widgets/base",
            "_model_module_version": "1.5.0",
            "_view_count": null,
            "_view_module_version": "1.2.0",
            "_model_module": "@jupyter-widgets/controls"
          }
        },
        "cdcf164c851a43a681a33585e1bfc44a": {
          "model_module": "@jupyter-widgets/base",
          "model_name": "LayoutModel",
          "state": {
            "_view_name": "LayoutView",
            "grid_template_rows": null,
            "right": null,
            "justify_content": null,
            "_view_module": "@jupyter-widgets/base",
            "overflow": null,
            "_model_module_version": "1.2.0",
            "_view_count": null,
            "flex_flow": null,
            "width": null,
            "min_width": null,
            "border": null,
            "align_items": null,
            "bottom": null,
            "_model_module": "@jupyter-widgets/base",
            "top": null,
            "grid_column": null,
            "overflow_y": null,
            "overflow_x": null,
            "grid_auto_flow": null,
            "grid_area": null,
            "grid_template_columns": null,
            "flex": null,
            "_model_name": "LayoutModel",
            "justify_items": null,
            "grid_row": null,
            "max_height": null,
            "align_content": null,
            "visibility": null,
            "align_self": null,
            "height": null,
            "min_height": null,
            "padding": null,
            "grid_auto_rows": null,
            "grid_gap": null,
            "max_width": null,
            "order": null,
            "_view_module_version": "1.2.0",
            "grid_template_areas": null,
            "object_position": null,
            "object_fit": null,
            "grid_auto_columns": null,
            "margin": null,
            "display": null,
            "left": null
          }
        }
      }
    }
  },
  "cells": [
    {
      "cell_type": "code",
      "metadata": {
        "id": "2mavW5dT8UpY"
      },
      "source": [
        "import pandas as pd\n",
        "import seaborn as sns\n",
        "from random import random\n",
        "from tqdm.notebook import tqdm\n",
        "import altair as alt"
      ],
      "execution_count": 25,
      "outputs": []
    },
    {
      "cell_type": "code",
      "metadata": {
        "id": "oOHcCFG79Yzn",
        "outputId": "f27ca468-a168-48dd-d53c-256c65777a10",
        "colab": {
          "base_uri": "https://localhost:8080/",
          "height": 394
        }
      },
      "source": [
        "# simulate random outcome for experiment\n",
        "\n",
        "conversion_rate = 0.2\n",
        "n_samples = 100\n",
        "\n",
        "res = []\n",
        "\n",
        "for i in range(n_samples):\n",
        "  res.append(random())\n",
        "  df = pd.DataFrame()\n",
        "  df['random_event'] = pd.Series(res)\n",
        "  df['conv'] = (df['random_event']>(1-conversion_rate)).astype(int)\n",
        "  df = df.sort_values('conv')\n",
        "  df['converted'] = df['conv'].map({1:'Yes', 0:'No'})\n",
        "\n",
        "print(f'mean: {df.conv.mean():0.2f} (n={len(df.conv)})')\n",
        "\n",
        "scatter = alt.Chart(df.reset_index()).mark_circle(size=60).encode(\n",
        "    x=alt.X('converted'),\n",
        "    y=alt.Y('random_event')\n",
        ")\n",
        "\n",
        "hist = alt.Chart(df).mark_bar(size=40).encode(\n",
        "    alt.X('count()'),\n",
        "    alt.Y(\"conv\")\n",
        ")\n",
        "\n",
        "scatter | hist"
      ],
      "execution_count": 59,
      "outputs": [
        {
          "output_type": "stream",
          "text": [
            "mean: 0.17 (n=100)\n"
          ],
          "name": "stdout"
        },
        {
          "output_type": "execute_result",
          "data": {
            "text/plain": [
              "alt.HConcatChart(...)"
            ],
            "text/html": [
              "\n",
              "<div id=\"altair-viz-6a5030605f1f4c668a5a69fd1eecfdfb\"></div>\n",
              "<script type=\"text/javascript\">\n",
              "  (function(spec, embedOpt){\n",
              "    let outputDiv = document.currentScript.previousElementSibling;\n",
              "    if (outputDiv.id !== \"altair-viz-6a5030605f1f4c668a5a69fd1eecfdfb\") {\n",
              "      outputDiv = document.getElementById(\"altair-viz-6a5030605f1f4c668a5a69fd1eecfdfb\");\n",
              "    }\n",
              "    const paths = {\n",
              "      \"vega\": \"https://cdn.jsdelivr.net/npm//vega@5?noext\",\n",
              "      \"vega-lib\": \"https://cdn.jsdelivr.net/npm//vega-lib?noext\",\n",
              "      \"vega-lite\": \"https://cdn.jsdelivr.net/npm//vega-lite@4.8.1?noext\",\n",
              "      \"vega-embed\": \"https://cdn.jsdelivr.net/npm//vega-embed@6?noext\",\n",
              "    };\n",
              "\n",
              "    function loadScript(lib) {\n",
              "      return new Promise(function(resolve, reject) {\n",
              "        var s = document.createElement('script');\n",
              "        s.src = paths[lib];\n",
              "        s.async = true;\n",
              "        s.onload = () => resolve(paths[lib]);\n",
              "        s.onerror = () => reject(`Error loading script: ${paths[lib]}`);\n",
              "        document.getElementsByTagName(\"head\")[0].appendChild(s);\n",
              "      });\n",
              "    }\n",
              "\n",
              "    function showError(err) {\n",
              "      outputDiv.innerHTML = `<div class=\"error\" style=\"color:red;\">${err}</div>`;\n",
              "      throw err;\n",
              "    }\n",
              "\n",
              "    function displayChart(vegaEmbed) {\n",
              "      vegaEmbed(outputDiv, spec, embedOpt)\n",
              "        .catch(err => showError(`Javascript Error: ${err.message}<br>This usually means there's a typo in your chart specification. See the javascript console for the full traceback.`));\n",
              "    }\n",
              "\n",
              "    if(typeof define === \"function\" && define.amd) {\n",
              "      requirejs.config({paths});\n",
              "      require([\"vega-embed\"], displayChart, err => showError(`Error loading script: ${err.message}`));\n",
              "    } else if (typeof vegaEmbed === \"function\") {\n",
              "      displayChart(vegaEmbed);\n",
              "    } else {\n",
              "      loadScript(\"vega\")\n",
              "        .then(() => loadScript(\"vega-lite\"))\n",
              "        .then(() => loadScript(\"vega-embed\"))\n",
              "        .catch(showError)\n",
              "        .then(() => displayChart(vegaEmbed));\n",
              "    }\n",
              "  })({\"config\": {\"view\": {\"continuousWidth\": 400, \"continuousHeight\": 300}}, \"hconcat\": [{\"data\": {\"name\": \"data-55b4765aaa794d1c336382e0d311318c\"}, \"mark\": {\"type\": \"circle\", \"size\": 60}, \"encoding\": {\"x\": {\"type\": \"nominal\", \"field\": \"converted\"}, \"y\": {\"type\": \"quantitative\", \"field\": \"random_event\"}}}, {\"data\": {\"name\": \"data-782a88fecff8ac513325b1df0dafab6c\"}, \"mark\": {\"type\": \"bar\", \"size\": 40}, \"encoding\": {\"x\": {\"type\": \"quantitative\", \"aggregate\": \"count\"}, \"y\": {\"type\": \"quantitative\", \"field\": \"conv\"}}}], \"$schema\": \"https://vega.github.io/schema/vega-lite/v4.8.1.json\", \"datasets\": {\"data-55b4765aaa794d1c336382e0d311318c\": [{\"index\": 0, \"random_event\": 0.564293206426179, \"conv\": 0, \"converted\": \"No\"}, {\"index\": 68, \"random_event\": 0.5017807531289208, \"conv\": 0, \"converted\": \"No\"}, {\"index\": 67, \"random_event\": 0.5860022942594234, \"conv\": 0, \"converted\": \"No\"}, {\"index\": 66, \"random_event\": 0.2886676690828317, \"conv\": 0, \"converted\": \"No\"}, {\"index\": 65, \"random_event\": 0.31483443887717755, \"conv\": 0, \"converted\": \"No\"}, {\"index\": 64, \"random_event\": 0.4427364531799308, \"conv\": 0, \"converted\": \"No\"}, {\"index\": 63, \"random_event\": 0.22785520881183363, \"conv\": 0, \"converted\": \"No\"}, {\"index\": 62, \"random_event\": 0.6903384826003258, \"conv\": 0, \"converted\": \"No\"}, {\"index\": 61, \"random_event\": 0.4602684848905242, \"conv\": 0, \"converted\": \"No\"}, {\"index\": 60, \"random_event\": 0.44554285378697545, \"conv\": 0, \"converted\": \"No\"}, {\"index\": 59, \"random_event\": 0.3297950546970605, \"conv\": 0, \"converted\": \"No\"}, {\"index\": 58, \"random_event\": 0.5959146988720921, \"conv\": 0, \"converted\": \"No\"}, {\"index\": 56, \"random_event\": 0.560210646889559, \"conv\": 0, \"converted\": \"No\"}, {\"index\": 55, \"random_event\": 0.5389806968534487, \"conv\": 0, \"converted\": \"No\"}, {\"index\": 54, \"random_event\": 0.585112399462574, \"conv\": 0, \"converted\": \"No\"}, {\"index\": 53, \"random_event\": 0.09023602874086145, \"conv\": 0, \"converted\": \"No\"}, {\"index\": 52, \"random_event\": 0.34133018041814567, \"conv\": 0, \"converted\": \"No\"}, {\"index\": 51, \"random_event\": 0.4890914615645796, \"conv\": 0, \"converted\": \"No\"}, {\"index\": 50, \"random_event\": 0.2411064592359874, \"conv\": 0, \"converted\": \"No\"}, {\"index\": 98, \"random_event\": 0.628604013493283, \"conv\": 0, \"converted\": \"No\"}, {\"index\": 69, \"random_event\": 0.14607975357009606, \"conv\": 0, \"converted\": \"No\"}, {\"index\": 48, \"random_event\": 0.270541120552499, \"conv\": 0, \"converted\": \"No\"}, {\"index\": 70, \"random_event\": 0.11794315106099562, \"conv\": 0, \"converted\": \"No\"}, {\"index\": 73, \"random_event\": 0.08369736621521173, \"conv\": 0, \"converted\": \"No\"}, {\"index\": 96, \"random_event\": 0.2608287464832012, \"conv\": 0, \"converted\": \"No\"}, {\"index\": 95, \"random_event\": 0.46301325918730707, \"conv\": 0, \"converted\": \"No\"}, {\"index\": 94, \"random_event\": 0.2334739669046566, \"conv\": 0, \"converted\": \"No\"}, {\"index\": 92, \"random_event\": 0.1491179672486338, \"conv\": 0, \"converted\": \"No\"}, {\"index\": 91, \"random_event\": 0.7946474381517581, \"conv\": 0, \"converted\": \"No\"}, {\"index\": 90, \"random_event\": 0.22856571712982365, \"conv\": 0, \"converted\": \"No\"}, {\"index\": 89, \"random_event\": 0.2222816195501749, \"conv\": 0, \"converted\": \"No\"}, {\"index\": 88, \"random_event\": 0.5330608351463421, \"conv\": 0, \"converted\": \"No\"}, {\"index\": 87, \"random_event\": 0.06326707679625088, \"conv\": 0, \"converted\": \"No\"}, {\"index\": 86, \"random_event\": 0.6952992653775119, \"conv\": 0, \"converted\": \"No\"}, {\"index\": 85, \"random_event\": 0.7594084074298856, \"conv\": 0, \"converted\": \"No\"}, {\"index\": 84, \"random_event\": 0.14321302686535842, \"conv\": 0, \"converted\": \"No\"}, {\"index\": 83, \"random_event\": 0.20340010294147826, \"conv\": 0, \"converted\": \"No\"}, {\"index\": 81, \"random_event\": 0.014183937588703732, \"conv\": 0, \"converted\": \"No\"}, {\"index\": 80, \"random_event\": 0.3493443339382696, \"conv\": 0, \"converted\": \"No\"}, {\"index\": 78, \"random_event\": 0.0026900195870611654, \"conv\": 0, \"converted\": \"No\"}, {\"index\": 77, \"random_event\": 0.1392983409235783, \"conv\": 0, \"converted\": \"No\"}, {\"index\": 76, \"random_event\": 0.017536525470099318, \"conv\": 0, \"converted\": \"No\"}, {\"index\": 74, \"random_event\": 0.03707499884438048, \"conv\": 0, \"converted\": \"No\"}, {\"index\": 71, \"random_event\": 0.09288342901878976, \"conv\": 0, \"converted\": \"No\"}, {\"index\": 47, \"random_event\": 0.7060874939401348, \"conv\": 0, \"converted\": \"No\"}, {\"index\": 49, \"random_event\": 0.6274574173485754, \"conv\": 0, \"converted\": \"No\"}, {\"index\": 99, \"random_event\": 0.058169067015717224, \"conv\": 0, \"converted\": \"No\"}, {\"index\": 25, \"random_event\": 0.25858695316049585, \"conv\": 0, \"converted\": \"No\"}, {\"index\": 24, \"random_event\": 0.5680431980333162, \"conv\": 0, \"converted\": \"No\"}, {\"index\": 22, \"random_event\": 0.25251335096856775, \"conv\": 0, \"converted\": \"No\"}, {\"index\": 21, \"random_event\": 0.040030059486653835, \"conv\": 0, \"converted\": \"No\"}, {\"index\": 45, \"random_event\": 0.11195969055976274, \"conv\": 0, \"converted\": \"No\"}, {\"index\": 20, \"random_event\": 0.4878468785300878, \"conv\": 0, \"converted\": \"No\"}, {\"index\": 19, \"random_event\": 0.6162763187461398, \"conv\": 0, \"converted\": \"No\"}, {\"index\": 10, \"random_event\": 0.1913068303064257, \"conv\": 0, \"converted\": \"No\"}, {\"index\": 18, \"random_event\": 0.3105266709729684, \"conv\": 0, \"converted\": \"No\"}, {\"index\": 16, \"random_event\": 0.004512066492788347, \"conv\": 0, \"converted\": \"No\"}, {\"index\": 5, \"random_event\": 0.48142808167560125, \"conv\": 0, \"converted\": \"No\"}, {\"index\": 15, \"random_event\": 0.7645885182575303, \"conv\": 0, \"converted\": \"No\"}, {\"index\": 14, \"random_event\": 0.5874154512424519, \"conv\": 0, \"converted\": \"No\"}, {\"index\": 6, \"random_event\": 0.284077232978456, \"conv\": 0, \"converted\": \"No\"}, {\"index\": 13, \"random_event\": 0.46152841447157544, \"conv\": 0, \"converted\": \"No\"}, {\"index\": 7, \"random_event\": 0.0690095101880629, \"conv\": 0, \"converted\": \"No\"}, {\"index\": 17, \"random_event\": 0.5963484668020478, \"conv\": 0, \"converted\": \"No\"}, {\"index\": 27, \"random_event\": 0.3911198159147573, \"conv\": 0, \"converted\": \"No\"}, {\"index\": 26, \"random_event\": 0.49668395898708495, \"conv\": 0, \"converted\": \"No\"}, {\"index\": 29, \"random_event\": 0.18099426257371531, \"conv\": 0, \"converted\": \"No\"}, {\"index\": 44, \"random_event\": 0.4870023227289817, \"conv\": 0, \"converted\": \"No\"}, {\"index\": 1, \"random_event\": 0.06872434317710241, \"conv\": 0, \"converted\": \"No\"}, {\"index\": 41, \"random_event\": 0.11171686226122335, \"conv\": 0, \"converted\": \"No\"}, {\"index\": 2, \"random_event\": 0.7843681079722508, \"conv\": 0, \"converted\": \"No\"}, {\"index\": 39, \"random_event\": 0.21838504753866383, \"conv\": 0, \"converted\": \"No\"}, {\"index\": 38, \"random_event\": 0.2674840194713285, \"conv\": 0, \"converted\": \"No\"}, {\"index\": 37, \"random_event\": 0.7244403087082746, \"conv\": 0, \"converted\": \"No\"}, {\"index\": 28, \"random_event\": 0.6769622761331336, \"conv\": 0, \"converted\": \"No\"}, {\"index\": 36, \"random_event\": 0.22955679010155816, \"conv\": 0, \"converted\": \"No\"}, {\"index\": 35, \"random_event\": 0.1701593113009543, \"conv\": 0, \"converted\": \"No\"}, {\"index\": 34, \"random_event\": 0.22231749821220959, \"conv\": 0, \"converted\": \"No\"}, {\"index\": 33, \"random_event\": 0.14549749707752646, \"conv\": 0, \"converted\": \"No\"}, {\"index\": 32, \"random_event\": 0.1806111879958191, \"conv\": 0, \"converted\": \"No\"}, {\"index\": 31, \"random_event\": 0.4086054538297478, \"conv\": 0, \"converted\": \"No\"}, {\"index\": 30, \"random_event\": 0.337466259310618, \"conv\": 0, \"converted\": \"No\"}, {\"index\": 9, \"random_event\": 0.7137573420673876, \"conv\": 0, \"converted\": \"No\"}, {\"index\": 3, \"random_event\": 0.9950190209723898, \"conv\": 1, \"converted\": \"Yes\"}, {\"index\": 93, \"random_event\": 0.9398552940452676, \"conv\": 1, \"converted\": \"Yes\"}, {\"index\": 97, \"random_event\": 0.889617770247746, \"conv\": 1, \"converted\": \"Yes\"}, {\"index\": 8, \"random_event\": 0.8177411966792256, \"conv\": 1, \"converted\": \"Yes\"}, {\"index\": 4, \"random_event\": 0.8654046392871569, \"conv\": 1, \"converted\": \"Yes\"}, {\"index\": 46, \"random_event\": 0.8838850716460614, \"conv\": 1, \"converted\": \"Yes\"}, {\"index\": 12, \"random_event\": 0.960516329582841, \"conv\": 1, \"converted\": \"Yes\"}, {\"index\": 82, \"random_event\": 0.8072804892249947, \"conv\": 1, \"converted\": \"Yes\"}, {\"index\": 79, \"random_event\": 0.8530623192368637, \"conv\": 1, \"converted\": \"Yes\"}, {\"index\": 75, \"random_event\": 0.851932848501293, \"conv\": 1, \"converted\": \"Yes\"}, {\"index\": 23, \"random_event\": 0.8748605181511394, \"conv\": 1, \"converted\": \"Yes\"}, {\"index\": 57, \"random_event\": 0.868776241013157, \"conv\": 1, \"converted\": \"Yes\"}, {\"index\": 40, \"random_event\": 0.8423463072357701, \"conv\": 1, \"converted\": \"Yes\"}, {\"index\": 42, \"random_event\": 0.8251413079179125, \"conv\": 1, \"converted\": \"Yes\"}, {\"index\": 43, \"random_event\": 0.8693930053234966, \"conv\": 1, \"converted\": \"Yes\"}, {\"index\": 11, \"random_event\": 0.9345003077790932, \"conv\": 1, \"converted\": \"Yes\"}, {\"index\": 72, \"random_event\": 0.8110819661589286, \"conv\": 1, \"converted\": \"Yes\"}], \"data-782a88fecff8ac513325b1df0dafab6c\": [{\"random_event\": 0.564293206426179, \"conv\": 0, \"converted\": \"No\"}, {\"random_event\": 0.5017807531289208, \"conv\": 0, \"converted\": \"No\"}, {\"random_event\": 0.5860022942594234, \"conv\": 0, \"converted\": \"No\"}, {\"random_event\": 0.2886676690828317, \"conv\": 0, \"converted\": \"No\"}, {\"random_event\": 0.31483443887717755, \"conv\": 0, \"converted\": \"No\"}, {\"random_event\": 0.4427364531799308, \"conv\": 0, \"converted\": \"No\"}, {\"random_event\": 0.22785520881183363, \"conv\": 0, \"converted\": \"No\"}, {\"random_event\": 0.6903384826003258, \"conv\": 0, \"converted\": \"No\"}, {\"random_event\": 0.4602684848905242, \"conv\": 0, \"converted\": \"No\"}, {\"random_event\": 0.44554285378697545, \"conv\": 0, \"converted\": \"No\"}, {\"random_event\": 0.3297950546970605, \"conv\": 0, \"converted\": \"No\"}, {\"random_event\": 0.5959146988720921, \"conv\": 0, \"converted\": \"No\"}, {\"random_event\": 0.560210646889559, \"conv\": 0, \"converted\": \"No\"}, {\"random_event\": 0.5389806968534487, \"conv\": 0, \"converted\": \"No\"}, {\"random_event\": 0.585112399462574, \"conv\": 0, \"converted\": \"No\"}, {\"random_event\": 0.09023602874086145, \"conv\": 0, \"converted\": \"No\"}, {\"random_event\": 0.34133018041814567, \"conv\": 0, \"converted\": \"No\"}, {\"random_event\": 0.4890914615645796, \"conv\": 0, \"converted\": \"No\"}, {\"random_event\": 0.2411064592359874, \"conv\": 0, \"converted\": \"No\"}, {\"random_event\": 0.628604013493283, \"conv\": 0, \"converted\": \"No\"}, {\"random_event\": 0.14607975357009606, \"conv\": 0, \"converted\": \"No\"}, {\"random_event\": 0.270541120552499, \"conv\": 0, \"converted\": \"No\"}, {\"random_event\": 0.11794315106099562, \"conv\": 0, \"converted\": \"No\"}, {\"random_event\": 0.08369736621521173, \"conv\": 0, \"converted\": \"No\"}, {\"random_event\": 0.2608287464832012, \"conv\": 0, \"converted\": \"No\"}, {\"random_event\": 0.46301325918730707, \"conv\": 0, \"converted\": \"No\"}, {\"random_event\": 0.2334739669046566, \"conv\": 0, \"converted\": \"No\"}, {\"random_event\": 0.1491179672486338, \"conv\": 0, \"converted\": \"No\"}, {\"random_event\": 0.7946474381517581, \"conv\": 0, \"converted\": \"No\"}, {\"random_event\": 0.22856571712982365, \"conv\": 0, \"converted\": \"No\"}, {\"random_event\": 0.2222816195501749, \"conv\": 0, \"converted\": \"No\"}, {\"random_event\": 0.5330608351463421, \"conv\": 0, \"converted\": \"No\"}, {\"random_event\": 0.06326707679625088, \"conv\": 0, \"converted\": \"No\"}, {\"random_event\": 0.6952992653775119, \"conv\": 0, \"converted\": \"No\"}, {\"random_event\": 0.7594084074298856, \"conv\": 0, \"converted\": \"No\"}, {\"random_event\": 0.14321302686535842, \"conv\": 0, \"converted\": \"No\"}, {\"random_event\": 0.20340010294147826, \"conv\": 0, \"converted\": \"No\"}, {\"random_event\": 0.014183937588703732, \"conv\": 0, \"converted\": \"No\"}, {\"random_event\": 0.3493443339382696, \"conv\": 0, \"converted\": \"No\"}, {\"random_event\": 0.0026900195870611654, \"conv\": 0, \"converted\": \"No\"}, {\"random_event\": 0.1392983409235783, \"conv\": 0, \"converted\": \"No\"}, {\"random_event\": 0.017536525470099318, \"conv\": 0, \"converted\": \"No\"}, {\"random_event\": 0.03707499884438048, \"conv\": 0, \"converted\": \"No\"}, {\"random_event\": 0.09288342901878976, \"conv\": 0, \"converted\": \"No\"}, {\"random_event\": 0.7060874939401348, \"conv\": 0, \"converted\": \"No\"}, {\"random_event\": 0.6274574173485754, \"conv\": 0, \"converted\": \"No\"}, {\"random_event\": 0.058169067015717224, \"conv\": 0, \"converted\": \"No\"}, {\"random_event\": 0.25858695316049585, \"conv\": 0, \"converted\": \"No\"}, {\"random_event\": 0.5680431980333162, \"conv\": 0, \"converted\": \"No\"}, {\"random_event\": 0.25251335096856775, \"conv\": 0, \"converted\": \"No\"}, {\"random_event\": 0.040030059486653835, \"conv\": 0, \"converted\": \"No\"}, {\"random_event\": 0.11195969055976274, \"conv\": 0, \"converted\": \"No\"}, {\"random_event\": 0.4878468785300878, \"conv\": 0, \"converted\": \"No\"}, {\"random_event\": 0.6162763187461398, \"conv\": 0, \"converted\": \"No\"}, {\"random_event\": 0.1913068303064257, \"conv\": 0, \"converted\": \"No\"}, {\"random_event\": 0.3105266709729684, \"conv\": 0, \"converted\": \"No\"}, {\"random_event\": 0.004512066492788347, \"conv\": 0, \"converted\": \"No\"}, {\"random_event\": 0.48142808167560125, \"conv\": 0, \"converted\": \"No\"}, {\"random_event\": 0.7645885182575303, \"conv\": 0, \"converted\": \"No\"}, {\"random_event\": 0.5874154512424519, \"conv\": 0, \"converted\": \"No\"}, {\"random_event\": 0.284077232978456, \"conv\": 0, \"converted\": \"No\"}, {\"random_event\": 0.46152841447157544, \"conv\": 0, \"converted\": \"No\"}, {\"random_event\": 0.0690095101880629, \"conv\": 0, \"converted\": \"No\"}, {\"random_event\": 0.5963484668020478, \"conv\": 0, \"converted\": \"No\"}, {\"random_event\": 0.3911198159147573, \"conv\": 0, \"converted\": \"No\"}, {\"random_event\": 0.49668395898708495, \"conv\": 0, \"converted\": \"No\"}, {\"random_event\": 0.18099426257371531, \"conv\": 0, \"converted\": \"No\"}, {\"random_event\": 0.4870023227289817, \"conv\": 0, \"converted\": \"No\"}, {\"random_event\": 0.06872434317710241, \"conv\": 0, \"converted\": \"No\"}, {\"random_event\": 0.11171686226122335, \"conv\": 0, \"converted\": \"No\"}, {\"random_event\": 0.7843681079722508, \"conv\": 0, \"converted\": \"No\"}, {\"random_event\": 0.21838504753866383, \"conv\": 0, \"converted\": \"No\"}, {\"random_event\": 0.2674840194713285, \"conv\": 0, \"converted\": \"No\"}, {\"random_event\": 0.7244403087082746, \"conv\": 0, \"converted\": \"No\"}, {\"random_event\": 0.6769622761331336, \"conv\": 0, \"converted\": \"No\"}, {\"random_event\": 0.22955679010155816, \"conv\": 0, \"converted\": \"No\"}, {\"random_event\": 0.1701593113009543, \"conv\": 0, \"converted\": \"No\"}, {\"random_event\": 0.22231749821220959, \"conv\": 0, \"converted\": \"No\"}, {\"random_event\": 0.14549749707752646, \"conv\": 0, \"converted\": \"No\"}, {\"random_event\": 0.1806111879958191, \"conv\": 0, \"converted\": \"No\"}, {\"random_event\": 0.4086054538297478, \"conv\": 0, \"converted\": \"No\"}, {\"random_event\": 0.337466259310618, \"conv\": 0, \"converted\": \"No\"}, {\"random_event\": 0.7137573420673876, \"conv\": 0, \"converted\": \"No\"}, {\"random_event\": 0.9950190209723898, \"conv\": 1, \"converted\": \"Yes\"}, {\"random_event\": 0.9398552940452676, \"conv\": 1, \"converted\": \"Yes\"}, {\"random_event\": 0.889617770247746, \"conv\": 1, \"converted\": \"Yes\"}, {\"random_event\": 0.8177411966792256, \"conv\": 1, \"converted\": \"Yes\"}, {\"random_event\": 0.8654046392871569, \"conv\": 1, \"converted\": \"Yes\"}, {\"random_event\": 0.8838850716460614, \"conv\": 1, \"converted\": \"Yes\"}, {\"random_event\": 0.960516329582841, \"conv\": 1, \"converted\": \"Yes\"}, {\"random_event\": 0.8072804892249947, \"conv\": 1, \"converted\": \"Yes\"}, {\"random_event\": 0.8530623192368637, \"conv\": 1, \"converted\": \"Yes\"}, {\"random_event\": 0.851932848501293, \"conv\": 1, \"converted\": \"Yes\"}, {\"random_event\": 0.8748605181511394, \"conv\": 1, \"converted\": \"Yes\"}, {\"random_event\": 0.868776241013157, \"conv\": 1, \"converted\": \"Yes\"}, {\"random_event\": 0.8423463072357701, \"conv\": 1, \"converted\": \"Yes\"}, {\"random_event\": 0.8251413079179125, \"conv\": 1, \"converted\": \"Yes\"}, {\"random_event\": 0.8693930053234966, \"conv\": 1, \"converted\": \"Yes\"}, {\"random_event\": 0.9345003077790932, \"conv\": 1, \"converted\": \"Yes\"}, {\"random_event\": 0.8110819661589286, \"conv\": 1, \"converted\": \"Yes\"}]}}, {\"mode\": \"vega-lite\"});\n",
              "</script>"
            ]
          },
          "metadata": {
            "tags": []
          },
          "execution_count": 59
        }
      ]
    },
    {
      "cell_type": "code",
      "metadata": {
        "id": "gUGPtfyp8Upb",
        "outputId": "44b1c9d7-da89-4ba3-d181-44a827b92eaf",
        "colab": {
          "base_uri": "https://localhost:8080/",
          "height": 282
        }
      },
      "source": [
        "# simulate outcome for A vs. B experiment\n",
        "\n",
        "a_conversion = 0.32\n",
        "b_conversion = 0.36\n",
        "\n",
        "n_samples = 1000\n",
        "n_experiments = 100\n",
        "\n",
        "res_a, res_b = [], []\n",
        "\n",
        "for i in range(n_experiments):\n",
        "    A = [random() for x in range(n_samples)]\n",
        "    B = [random() for x in range(n_samples)]\n",
        "    df = pd.DataFrame()\n",
        "    df['A'] = pd.Series(A)\n",
        "    df['A_conv'] = (df['A']>(1-a_conversion)).astype(int)\n",
        "    df['B'] = pd.Series(B)\n",
        "    df['B_conv'] = (df['B']>(1-b_conversion)).astype(int)\n",
        "    res_a.append(df.A_conv.mean())\n",
        "    res_b.append(df.B_conv.mean())\n",
        "\n",
        "dx = pd.DataFrame()\n",
        "dx[f'A_res'] = pd.Series(res_a)\n",
        "dx[f'B_res'] = pd.Series(res_b)\n",
        "\n",
        "dx.plot()\n",
        "print(f\"Experiement failure: {dx[dx['B_res'] < dx['A_res']].shape[0]}/{n_experiments}\")"
      ],
      "execution_count": null,
      "outputs": [
        {
          "output_type": "stream",
          "text": [
            "Experiement failure: 2/100\n"
          ],
          "name": "stdout"
        },
        {
          "output_type": "display_data",
          "data": {
            "image/png": "[encoded data removed]",
            "text/plain": [
              "<Figure size 432x288 with 1 Axes>"
            ]
          },
          "metadata": {
            "tags": [],
            "needs_background": "light"
          }
        }
      ]
    },
    {
      "cell_type": "code",
      "metadata": {
        "id": "yRuvCiBg8Upd",
        "outputId": "e2724b88-6537-4f96-b9ec-5950d2c18afd",
        "colab": {
          "base_uri": "https://localhost:8080/",
          "height": 388
        }
      },
      "source": [
        "sns.distplot(dx['A_res'])\n",
        "sns.distplot(dx['B_res'])"
      ],
      "execution_count": null,
      "outputs": [
        {
          "output_type": "stream",
          "text": [
            "/usr/local/lib/python3.6/dist-packages/seaborn/distributions.py:2551: FutureWarning: `distplot` is a deprecated function and will be removed in a future version. Please adapt your code to use either `displot` (a figure-level function with similar flexibility) or `histplot` (an axes-level function for histograms).\n",
            "  warnings.warn(msg, FutureWarning)\n",
            "/usr/local/lib/python3.6/dist-packages/seaborn/distributions.py:2551: FutureWarning: `distplot` is a deprecated function and will be removed in a future version. Please adapt your code to use either `displot` (a figure-level function with similar flexibility) or `histplot` (an axes-level function for histograms).\n",
            "  warnings.warn(msg, FutureWarning)\n"
          ],
          "name": "stderr"
        },
        {
          "output_type": "execute_result",
          "data": {
            "text/plain": [
              "<matplotlib.axes._subplots.AxesSubplot at 0x7f0d6d7b1ba8>"
            ]
          },
          "metadata": {
            "tags": []
          },
          "execution_count": 43
        },
        {
          "output_type": "display_data",
          "data": {
            "image/png": "[encoded data removed]",
            "text/plain": [
              "<Figure size 432x288 with 1 Axes>"
            ]
          },
          "metadata": {
            "tags": [],
            "needs_background": "light"
          }
        }
      ]
    },
    {
      "cell_type": "markdown",
      "metadata": {
        "id": "Wl1cr8jt8Upf"
      },
      "source": [
        "Verifies at https://abtestguide.com/calc/"
      ]
    },
    {
      "cell_type": "markdown",
      "metadata": {
        "id": "GvDd8f8S8Upg"
      },
      "source": [
        "#### Bayesian A/B-test Calculator\n",
        "What is the probability that your test variation beats the original? Make a solid risk assessment whether to implement the variation or not."
      ]
    },
    {
      "cell_type": "code",
      "metadata": {
        "scrolled": false,
        "id": "BEwXt4b-8Upg",
        "outputId": "e010efc6-1329-464e-a977-2c1829a8e29b",
        "colab": {
          "base_uri": "https://localhost:8080/",
          "height": 563,
          "referenced_widgets": [
            "ca8e7a44da4f4a89b3e59e65df3743ae",
            "ba25531caca24ac79aea6d8d48e536ec",
            "6228ae09c9f444608b0f12385455d5f8",
            "350b5b6ab9634d48b2cb8e7988d96c34",
            "7e573f4e66014df4a112fd16df55f8e4",
            "93da6076432d413e81523986e87d0b58",
            "4137bb8da312467d89376db65af1f379",
            "cdcf164c851a43a681a33585e1bfc44a"
          ]
        }
      },
      "source": [
        "# Simulate outcomes to find false positive rate\n",
        "simulations = 20\n",
        "n_samples = 1000\n",
        "\n",
        "x = []\n",
        "\n",
        "for i in tqdm(range(simulations)):\n",
        "    res_a, res_b = [], []\n",
        "    for i in range(n_experiments):\n",
        "        A = [random() for x in range(n_samples)]\n",
        "        B = [random() for x in range(n_samples)]\n",
        "        df = pd.DataFrame()\n",
        "        df['A'] = pd.Series(A)\n",
        "        df['A_conv'] = (df['A']>(1-a_conversion)).astype(int)\n",
        "        df['B'] = pd.Series(B)\n",
        "        df['B_conv'] = (df['B']>(1-b_conversion)).astype(int)\n",
        "        res_a.append(df.A_conv.mean())\n",
        "        res_b.append(df.B_conv.mean())\n",
        "\n",
        "    dx = pd.DataFrame()\n",
        "    dx[f'A_res'] = pd.Series(res_a)\n",
        "    dx[f'B_res'] = pd.Series(res_b)\n",
        "    x.append(dx[dx['B_res'] < dx['A_res']].shape[0])\n",
        "\n",
        "res = pd.Series(x)\n",
        "print(f'Given that we observe\\n\\tA conversion = {a_conversion}\\n\\tB conversion = {b_conversion}')\n",
        "print(f'\\t\\twith n={n_samples} samples each\\n')\n",
        "print(f'\\nAverage over {simulations} simulations\\n')\n",
        "print('\\tChance of A outperforming B:', res.mean(), '%', '(false positives)\\n')\n",
        "\n",
        "sns.distplot(res)"
      ],
      "execution_count": null,
      "outputs": [
        {
          "output_type": "display_data",
          "data": {
            "application/vnd.jupyter.widget-view+json": {
              "model_id": "ca8e7a44da4f4a89b3e59e65df3743ae",
              "version_minor": 0,
              "version_major": 2
            },
            "text/plain": [
              "HBox(children=(FloatProgress(value=0.0, max=20.0), HTML(value='')))"
            ]
          },
          "metadata": {
            "tags": []
          }
        },
        {
          "output_type": "stream",
          "text": [
            "\n",
            "Given that we observe\n",
            "\tA conversion = 0.32\n",
            "\tB conversion = 0.36\n",
            "\t\twith n=1000 samples each\n",
            "\n",
            "\n",
            "Average over 20 simulations\n",
            "\n",
            "\tChance of A outperforming B: 2.65 % (false positives)\n",
            "\n"
          ],
          "name": "stdout"
        },
        {
          "output_type": "stream",
          "text": [
            "/usr/local/lib/python3.6/dist-packages/seaborn/distributions.py:2551: FutureWarning: `distplot` is a deprecated function and will be removed in a future version. Please adapt your code to use either `displot` (a figure-level function with similar flexibility) or `histplot` (an axes-level function for histograms).\n",
            "  warnings.warn(msg, FutureWarning)\n"
          ],
          "name": "stderr"
        },
        {
          "output_type": "execute_result",
          "data": {
            "text/plain": [
              "<matplotlib.axes._subplots.AxesSubplot at 0x7f0d6d5e6908>"
            ]
          },
          "metadata": {
            "tags": []
          },
          "execution_count": 44
        },
        {
          "output_type": "display_data",
          "data": {
            "image/png": "[encoded data removed]",
            "text/plain": [
              "<Figure size 432x288 with 1 Axes>"
            ]
          },
          "metadata": {
            "tags": [],
            "needs_background": "light"
          }
        }
      ]
    },
    {
      "cell_type": "markdown",
      "metadata": {
        "id": "7yQmUofK8Upi"
      },
      "source": [
        "Output can be verified here https://abtestguide.com/bayesian/"
      ]
    }
  ]
}